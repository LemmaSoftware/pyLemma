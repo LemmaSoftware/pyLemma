{
 "cells": [
  {
   "cell_type": "markdown",
   "metadata": {},
   "source": [
    "# PyLemma\n",
    "\n",
    "This is a simple example of what you can do in Lemma using the python interface"
   ]
  },
  {
   "cell_type": "code",
   "execution_count": null,
   "metadata": {},
   "outputs": [],
   "source": [
    "!pip install pyLemma \n",
    "!pip install numpy \n",
    "!pip install matplotlib"
   ]
  },
  {
   "cell_type": "code",
   "execution_count": null,
   "metadata": {},
   "outputs": [],
   "source": [
    "from pyLemma import FDEM1D \n",
    "import numpy as np\n",
    "import matplotlib.pyplot as plt \n",
    "\n",
    "wire = FDEM1D.PolygonalWireAntenna()\n",
    "wire.SetNumberOfPoints(5)\n",
    "wire.SetPoint(0, (-50,-50,  -1e-3))\n",
    "wire.SetPoint(1, (-50, 50,  -1e-3))\n",
    "wire.SetPoint(2, ( 50, 50,  -1e-3))\n",
    "wire.SetPoint(3, ( 50,-50,  -1e-3))\n",
    "wire.SetPoint(4, (-50,-50,  -1e-3))\n",
    "wire.SetNumberOfFrequencies(1)\n",
    "wire.SetFrequency(0, 100)\n",
    "#print(wire)\n",
    "\n",
    "earth = FDEM1D.LayeredEarthEM()\n",
    "earth.SetNumberOfLayers(3)\n",
    "earth.SetLayerThickness([100])\n",
    "earth.SetLayerConductivity([0, 1/100, 1/300])\n",
    "#print(earth)\n",
    "\n",
    "points = FDEM1D.FieldPoints()\n",
    "nx, ny, nz = 101,101,1\n",
    "ox, oy, oz = -100, -100, -10\n",
    "dx, dy, dz = 2, 2,20\n",
    "points.SetNumberOfPoints(nx*ny*nz)\n",
    "ip = 0\n",
    "for ix in range(nx):\n",
    "    for iy in range(ny):\n",
    "        for iz in range(nz):\n",
    "            points.SetLocation(ip, [ox+dx*ix, oy+dy*iy, oz+dz*iz])\n",
    "            ip += 1\n",
    "#print(points)"
   ]
  },
  {
   "cell_type": "markdown",
   "metadata": {},
   "source": [
    "## Sets up the parameters for the simulation\n",
    "* a square sided transmitter of 100 m length\n",
    "* calculation points on a grid \n",
    "* a two layer earth model"
   ]
  },
  {
   "cell_type": "code",
   "execution_count": null,
   "metadata": {},
   "outputs": [],
   "source": [
    "em1d = FDEM1D.EMEarth1D()\n",
    "em1d.AttachFieldPoints(points)\n",
    "em1d.AttachWireAntenna(wire)\n",
    "em1d.AttachLayeredEarthEM(earth)\n",
    "em1d.CalculateWireAntennaFields(True)\n",
    "#print(em1d)"
   ]
  },
  {
   "cell_type": "markdown",
   "metadata": {},
   "source": [
    "This block runs the calculation, and can take some time"
   ]
  },
  {
   "cell_type": "code",
   "execution_count": null,
   "metadata": {},
   "outputs": [],
   "source": [
    "Locs = points.GetLocations()\n",
    "Efield = points.GetEfield(0)\n",
    "Hfield = points.GetHfield(0)\n",
    "\n",
    "#print(\"Efield\", np.shape(Efield))\n",
    "#print(\"Locs\", np.shape(Locs))\n",
    "#print(Efield[0])\n",
    "\n",
    "#plt.plot(Locs[0], Efield[0])\n",
    "stride = 13\n",
    "\n",
    "fig = plt.figure()\n",
    "ax1 = fig.add_subplot(111,aspect='equal')\n",
    "X,Y = np.meshgrid( np.arange(ox, ox+dx*nx, dx), np.arange(oy, oy+dy*ny, dy) )\n",
    "im = ax1.pcolormesh( X, Y, np.reshape(np.abs(np.real(Hfield[0]))+np.abs(np.real(Hfield[1])), (nx, ny)), cmap='inferno' )\n",
    "#im = ax1.contourf( X, Y, np.reshape(np.abs(np.real(Hfield[0]))+np.abs(np.real(Hfield[1])), (nx, ny)), cmap='inferno' )\n",
    "ax1.quiver(Locs[0,0::stride], Locs[1,0::stride], np.real(Hfield[0,0::stride]), np.real(Hfield[1,0::stride]))\n",
    "cb = plt.colorbar(im)\n",
    "cb.ax.set_ylabel(\"$|\\mathbf{H}_{x,y}|$ (A/m)\")\n",
    "ax1.set_xlabel(\"easting (m)\")\n",
    "ax1.set_ylabel(\"northing (m)\")\n",
    "#plt.quiver(Locs[0], Locs[1], np.real(Efield[0]), np.real(Efield[1]))\n",
    "#ax1.quiver(Locs[0],Locs[1],np.imag(Efield[0]), np.imag(Efield[1]), color='blue')\n",
    "\n",
    "\n",
    "plt.show()\n",
    "\n",
    "#help(FDEM1D.EMEarth1D)"
   ]
  },
  {
   "cell_type": "code",
   "execution_count": null,
   "metadata": {},
   "outputs": [],
   "source": []
  }
 ],
 "metadata": {
  "kernelspec": {
   "display_name": "Python 3",
   "language": "python",
   "name": "python3"
  },
  "language_info": {
   "codemirror_mode": {
    "name": "ipython",
    "version": 3
   },
   "file_extension": ".py",
   "mimetype": "text/x-python",
   "name": "python",
   "nbconvert_exporter": "python",
   "pygments_lexer": "ipython3",
   "version": "3.7.4"
  }
 },
 "nbformat": 4,
 "nbformat_minor": 4
}
