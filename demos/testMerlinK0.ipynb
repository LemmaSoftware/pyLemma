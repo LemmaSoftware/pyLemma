{
 "cells": [
  {
   "cell_type": "markdown",
   "metadata": {},
   "source": [
    "Test Merlin"
   ]
  },
  {
   "cell_type": "code",
   "execution_count": 1,
   "metadata": {},
   "outputs": [
    {
     "name": "stdout",
     "output_type": "stream",
     "text": [
      "Requirement already satisfied: pyLemma==0.0.12 in /anaconda3/envs/TestAkvo/lib/python3.7/site-packages (0.0.12)\n",
      "Requirement already satisfied: numpy in /anaconda3/envs/TestAkvo/lib/python3.7/site-packages (1.17.2)\n",
      "Requirement already satisfied: matplotlib in /anaconda3/envs/TestAkvo/lib/python3.7/site-packages (3.1.1)\n",
      "Requirement already satisfied: kiwisolver>=1.0.1 in /anaconda3/envs/TestAkvo/lib/python3.7/site-packages (from matplotlib) (1.1.0)\n",
      "Requirement already satisfied: pyparsing!=2.0.4,!=2.1.2,!=2.1.6,>=2.0.1 in /anaconda3/envs/TestAkvo/lib/python3.7/site-packages (from matplotlib) (2.4.2)\n",
      "Requirement already satisfied: numpy>=1.11 in /anaconda3/envs/TestAkvo/lib/python3.7/site-packages (from matplotlib) (1.17.2)\n",
      "Requirement already satisfied: cycler>=0.10 in /anaconda3/envs/TestAkvo/lib/python3.7/site-packages (from matplotlib) (0.10.0)\n",
      "Requirement already satisfied: python-dateutil>=2.1 in /anaconda3/envs/TestAkvo/lib/python3.7/site-packages (from matplotlib) (2.8.0)\n",
      "Requirement already satisfied: setuptools in /anaconda3/envs/TestAkvo/lib/python3.7/site-packages (from kiwisolver>=1.0.1->matplotlib) (41.0.1)\n",
      "Requirement already satisfied: six in /anaconda3/envs/TestAkvo/lib/python3.7/site-packages (from cycler>=0.10->matplotlib) (1.12.0)\n",
      "Requirement already satisfied: cmocean in /anaconda3/envs/TestAkvo/lib/python3.7/site-packages (2.0)\n"
     ]
    }
   ],
   "source": [
    "!pip install pyLemma==0.0.12\n",
    "!pip install numpy \n",
    "!pip install matplotlib\n",
    "!pip install cmocean"
   ]
  },
  {
   "cell_type": "code",
   "execution_count": 2,
   "metadata": {},
   "outputs": [],
   "source": [
    "import pyLemma.Merlin as mrln \n",
    "import pyLemma.FDEM1D as em1d \n",
    "import pyLemma.LemmaCore as lc \n",
    "import numpy as np\n",
    "import matplotlib.pyplot as plt "
   ]
  },
  {
   "cell_type": "code",
   "execution_count": 3,
   "metadata": {},
   "outputs": [],
   "source": [
    "lmod = em1d.LayeredEarthEM() \n",
    "lmod.SetNumberOfLayers(3)\n",
    "lmod.SetLayerThickness([10])\n",
    "lmod.SetLayerConductivity([0,1/20,1/100])\n",
    "lmod.SetMagneticFieldIncDecMag( 67, 9, 52750, lc.NANOTESLA )\n",
    "#print(lmod)\n",
    "\n",
    "tx = em1d.PolygonalWireAntenna()\n",
    "tx.SetNumberOfPoints(5)\n",
    "tx.SetPoint(0,( 50,  50, -1e-3))\n",
    "tx.SetPoint(1,(150,  50, -1e-3))\n",
    "tx.SetPoint(2,(150, 150, -1e-3))\n",
    "tx.SetPoint(3,( 50, 150, -1e-3))\n",
    "tx.SetPoint(4,( 50,  50, -1e-3))\n",
    "tx.SetNumberOfFrequencies(1)\n",
    "tx.SetFrequency(0,2246) \n",
    "tx.SetCurrent(1.)\n",
    "\n",
    "rx = em1d.PolygonalWireAntenna()\n",
    "rx.SetNumberOfPoints(5)\n",
    "rx.SetPoint(0,( 75,  75, -1e-3))\n",
    "rx.SetPoint(1,(125,  75, -1e-3))\n",
    "rx.SetPoint(2,(125, 125, -1e-3))\n",
    "rx.SetPoint(3,( 75, 125, -1e-3))\n",
    "rx.SetPoint(4,( 75,  75, -1e-3))\n",
    "rx.SetNumberOfFrequencies(1)\n",
    "rx.SetFrequency(0,2246) \n",
    "rx.SetCurrent(1.)\n",
    "\n",
    "Kern = mrln.KernelV0()\n",
    "Kern.PushCoil( \"Coil 1\", tx )\n",
    "Kern.PushCoil( \"Coil 2\", rx )\n",
    "Kern.SetLayeredEarthEM( lmod );\n",
    "Kern.SetIntegrationSize( (200,200,200) )\n",
    "Kern.SetIntegrationOrigin( (0,0,0) )\n",
    "Kern.SetTolerance( 1e-9 )\n",
    "#Kern.SetMinLevel( 3 )\n",
    "Kern.SetHankelTransformType( lc.FHTKEY201 )\n",
    "\n",
    "thick = np.geomspace(1,15,num=45)\n",
    "iface = np.cumsum(thick)\n",
    "Kern.SetDepthLayerInterfaces(iface)\n",
    "#Kern.SetDepthLayerInterfaces(np.geomspace(1, 110, num=40))\n",
    "#Kern.SetDepthLayerInterfaces(np.linspace(1, 110, num=50))\n",
    "#Kern.SetDepthLayerInterfaces(np.geomspace(1, 110, num=40))\n",
    " \n",
    "# auto AkvoDataNode = YAML::LoadFile(argv[4]);\n",
    "# Kern->AlignWithAkvoDataset( AkvoDataNode );\n",
    "\n",
    "Kern.SetPulseDuration(0.040)\n",
    "Kern.SetPulseCurrent(np.geomspace(500,1,40))\n",
    "\n",
    "Kern.CalculateK0( [\"Coil 1\"], [\"Coil 1\"], False )"
   ]
  },
  {
   "cell_type": "code",
   "execution_count": 4,
   "metadata": {},
   "outputs": [
    {
     "data": {
      "image/png": "[encoded data removed]",
      "text/plain": [
       "<Figure size 288x316.8 with 1 Axes>"
      ]
     },
     "metadata": {
      "needs_background": "light"
     },
     "output_type": "display_data"
    }
   ],
   "source": [
    "yml = open('test-' + str(Kern.GetTolerance()) + '.yaml', 'w')\n",
    "print(Kern, file=yml)\n",
    "\n",
    "K0 = Kern.GetKernel()\n",
    "plt.matshow(np.abs(K0))\n",
    "plt.show()"
   ]
  },
  {
   "cell_type": "code",
   "execution_count": null,
   "metadata": {},
   "outputs": [],
   "source": []
  }
 ],
 "metadata": {
  "kernelspec": {
   "display_name": "Python 3",
   "language": "python",
   "name": "python3"
  },
  "language_info": {
   "codemirror_mode": {
    "name": "ipython",
    "version": 3
   },
   "file_extension": ".py",
   "mimetype": "text/x-python",
   "name": "python",
   "nbconvert_exporter": "python",
   "pygments_lexer": "ipython3",
   "version": "3.7.4"
  }
 },
 "nbformat": 4,
 "nbformat_minor": 2
}
